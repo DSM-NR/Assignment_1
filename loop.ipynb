{
 "cells": [
  {
   "cell_type": "code",
   "execution_count": 1,
   "id": "1132ec42-01ef-4f41-ae70-1b4db7e9bd96",
   "metadata": {},
   "outputs": [],
   "source": [
    "l=[1,2,3,4,5,6]"
   ]
  },
  {
   "cell_type": "code",
   "execution_count": 3,
   "id": "b2b53739-3202-4089-ab81-905dd8f06749",
   "metadata": {},
   "outputs": [
    {
     "name": "stdout",
     "output_type": "stream",
     "text": [
      "1\n",
      "2\n",
      "3\n",
      "4\n",
      "5\n",
      "6\n"
     ]
    }
   ],
   "source": [
    "for i in l:\n",
    "    print(i)"
   ]
  },
  {
   "cell_type": "code",
   "execution_count": 10,
   "id": "de5afa5b-5102-4c73-aa5d-2189cdd99d5b",
   "metadata": {},
   "outputs": [
    {
     "name": "stdout",
     "output_type": "stream",
     "text": [
      "2\n",
      "3\n",
      "4\n",
      "5\n",
      "6\n",
      "7\n"
     ]
    },
    {
     "data": {
      "text/plain": [
       "[2, 3, 4, 5, 6, 7]"
      ]
     },
     "execution_count": 10,
     "metadata": {},
     "output_type": "execute_result"
    }
   ],
   "source": [
    "l1=[]\n",
    "for i in l:\n",
    "    print(i+1)\n",
    "    l1.append(i+1)\n",
    "l1"
   ]
  },
  {
   "cell_type": "code",
   "execution_count": 9,
   "id": "bb76c57a-c1fe-467b-bf0e-1529a173edff",
   "metadata": {},
   "outputs": [
    {
     "data": {
      "text/plain": [
       "[1, 2, 3, 4, 5, 6]"
      ]
     },
     "execution_count": 9,
     "metadata": {},
     "output_type": "execute_result"
    }
   ],
   "source": [
    "l"
   ]
  },
  {
   "cell_type": "code",
   "execution_count": 11,
   "id": "9d2fb04b-8001-4a03-8d1f-f15f3dd86774",
   "metadata": {},
   "outputs": [],
   "source": [
    "l=['sudh','nit','mniy','mfgi']"
   ]
  },
  {
   "cell_type": "code",
   "execution_count": 14,
   "id": "3111f807-c898-47d5-ae22-5d02d7754ddb",
   "metadata": {},
   "outputs": [
    {
     "name": "stdout",
     "output_type": "stream",
     "text": [
      "sudh\n",
      "nit\n",
      "mniy\n",
      "mfgi\n"
     ]
    }
   ],
   "source": [
    "l1=[]\n",
    "for i in l:\n",
    "    print(i)\n",
    "    l1.append(i.upper())"
   ]
  },
  {
   "cell_type": "code",
   "execution_count": 15,
   "id": "293c8d52-b8e3-432f-abb4-0d9f37c88483",
   "metadata": {},
   "outputs": [
    {
     "data": {
      "text/plain": [
       "['SUDH', 'NIT', 'MNIY', 'MFGI']"
      ]
     },
     "execution_count": 15,
     "metadata": {},
     "output_type": "execute_result"
    }
   ],
   "source": [
    "l1"
   ]
  },
  {
   "cell_type": "code",
   "execution_count": 18,
   "id": "f3b70eed-8072-4e05-b3a4-3f4c04399379",
   "metadata": {},
   "outputs": [
    {
     "name": "stdout",
     "output_type": "stream",
     "text": [
      "sudh\n",
      "nit\n",
      "mniy\n",
      "mfgi\n"
     ]
    }
   ],
   "source": [
    "l1=[]\n",
    "for i in l:\n",
    "    print(i)\n",
    "    l1.append(i.lower())"
   ]
  },
  {
   "cell_type": "code",
   "execution_count": 19,
   "id": "c0dd0480-22a1-4e53-924c-333177bf1440",
   "metadata": {},
   "outputs": [
    {
     "data": {
      "text/plain": [
       "['sudh', 'nit', 'mniy', 'mfgi']"
      ]
     },
     "execution_count": 19,
     "metadata": {},
     "output_type": "execute_result"
    }
   ],
   "source": [
    "l1"
   ]
  },
  {
   "cell_type": "code",
   "execution_count": 20,
   "id": "cf53d3b9-10cf-4547-a57c-3f3111f4e5d0",
   "metadata": {},
   "outputs": [],
   "source": [
    "l=[1,2,3,4,78.98,\"nitin\",\"manish\",48,\"aman\",90.24,\"tushar\"]"
   ]
  },
  {
   "cell_type": "code",
   "execution_count": 21,
   "id": "e488cf44-49bb-4f45-869e-c244bb058c24",
   "metadata": {},
   "outputs": [],
   "source": [
    "l1_num=[]\n",
    "l2_str=[]\n",
    "for i in l:\n",
    "    if type(i)==int or type(i)==float :\n",
    "        l1_num.append(i)\n",
    "    else:\n",
    "        l2_str.append(i)"
   ]
  },
  {
   "cell_type": "code",
   "execution_count": 22,
   "id": "45f09710-2ba5-46dc-9e26-e324ba79693d",
   "metadata": {},
   "outputs": [
    {
     "data": {
      "text/plain": [
       "[1, 2, 3, 4, 78.98, 48, 90.24]"
      ]
     },
     "execution_count": 22,
     "metadata": {},
     "output_type": "execute_result"
    }
   ],
   "source": [
    "l1_num"
   ]
  },
  {
   "cell_type": "code",
   "execution_count": 23,
   "id": "4cd2c68b-730b-4a8c-84e0-052ad2ba02ac",
   "metadata": {},
   "outputs": [
    {
     "data": {
      "text/plain": [
       "['nitin', 'manish', 'aman', 'tushar']"
      ]
     },
     "execution_count": 23,
     "metadata": {},
     "output_type": "execute_result"
    }
   ],
   "source": [
    "l2_str"
   ]
  },
  {
   "cell_type": "code",
   "execution_count": null,
   "id": "22252011-30e8-4c59-800e-82ae72d189a8",
   "metadata": {},
   "outputs": [],
   "source": []
  }
 ],
 "metadata": {
  "kernelspec": {
   "display_name": "Python 3 (ipykernel)",
   "language": "python",
   "name": "python3"
  },
  "language_info": {
   "codemirror_mode": {
    "name": "ipython",
    "version": 3
   },
   "file_extension": ".py",
   "mimetype": "text/x-python",
   "name": "python",
   "nbconvert_exporter": "python",
   "pygments_lexer": "ipython3",
   "version": "3.10.8"
  }
 },
 "nbformat": 4,
 "nbformat_minor": 5
}
